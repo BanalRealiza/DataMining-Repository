{
 "cells": [
  {
   "cell_type": "markdown",
   "id": "867b4c78-3163-4173-afed-5b422e646adf",
   "metadata": {},
   "source": [
    "<h1>United Kingdom Road Accidents</h1>"
   ]
  },
  {
   "cell_type": "markdown",
   "id": "cd727fbe-f0b5-4257-8ded-efb71926185c",
   "metadata": {},
   "source": [
    "<h3>________________________________________________________________________________________________________________________</h3>"
   ]
  },
  {
   "cell_type": "code",
   "execution_count": null,
   "id": "4b766c98-3935-4ea7-8c96-03981a99217a",
   "metadata": {},
   "outputs": [],
   "source": []
  },
  {
   "cell_type": "code",
   "execution_count": 1,
   "id": "b5ec6520-1960-4173-868c-e579b43d4e76",
   "metadata": {},
   "outputs": [],
   "source": [
    "import pandas as pd\n",
    "import seaborn as sns\n",
    "import matplotlib.pyplot as plt\n",
    "import warnings\n",
    "warnings.filterwarnings('ignore')"
   ]
  },
  {
   "cell_type": "code",
   "execution_count": 2,
   "id": "f2358859-c688-4b20-b35c-e9c917e6eee6",
   "metadata": {},
   "outputs": [],
   "source": [
    "from scipy.stats import f_oneway"
   ]
  },
  {
   "cell_type": "code",
   "execution_count": 3,
   "id": "c3eaf940-c534-4b70-a419-047a26eb82c1",
   "metadata": {},
   "outputs": [],
   "source": [
    "accident_df=pd.read_csv('dataset\\\\accident_data.csv')"
   ]
  },
  {
   "cell_type": "code",
   "execution_count": 4,
   "id": "c892a642-aa27-4729-99df-fe4454fb9e72",
   "metadata": {},
   "outputs": [
    {
     "data": {
      "text/html": [
       "<div>\n",
       "<style scoped>\n",
       "    .dataframe tbody tr th:only-of-type {\n",
       "        vertical-align: middle;\n",
       "    }\n",
       "\n",
       "    .dataframe tbody tr th {\n",
       "        vertical-align: top;\n",
       "    }\n",
       "\n",
       "    .dataframe thead th {\n",
       "        text-align: right;\n",
       "    }\n",
       "</style>\n",
       "<table border=\"1\" class=\"dataframe\">\n",
       "  <thead>\n",
       "    <tr style=\"text-align: right;\">\n",
       "      <th></th>\n",
       "      <th>Index</th>\n",
       "      <th>Accident_Severity</th>\n",
       "      <th>Accident Date</th>\n",
       "      <th>Latitude</th>\n",
       "      <th>Light_Conditions</th>\n",
       "      <th>District Area</th>\n",
       "      <th>Longitude</th>\n",
       "      <th>Number_of_Casualties</th>\n",
       "      <th>Number_of_Vehicles</th>\n",
       "      <th>Road_Surface_Conditions</th>\n",
       "      <th>Road_Type</th>\n",
       "      <th>Urban_or_Rural_Area</th>\n",
       "      <th>Weather_Conditions</th>\n",
       "      <th>Vehicle_Type</th>\n",
       "    </tr>\n",
       "  </thead>\n",
       "  <tbody>\n",
       "    <tr>\n",
       "      <th>0</th>\n",
       "      <td>200701BS64157</td>\n",
       "      <td>Serious</td>\n",
       "      <td>05/06/2019</td>\n",
       "      <td>51.506187</td>\n",
       "      <td>Darkness - lights lit</td>\n",
       "      <td>Kensington and Chelsea</td>\n",
       "      <td>-0.209082</td>\n",
       "      <td>1</td>\n",
       "      <td>2</td>\n",
       "      <td>Dry</td>\n",
       "      <td>Single carriageway</td>\n",
       "      <td>Urban</td>\n",
       "      <td>Fine no high winds</td>\n",
       "      <td>Car</td>\n",
       "    </tr>\n",
       "    <tr>\n",
       "      <th>1</th>\n",
       "      <td>200701BS65737</td>\n",
       "      <td>Serious</td>\n",
       "      <td>02/07/2019</td>\n",
       "      <td>51.495029</td>\n",
       "      <td>Daylight</td>\n",
       "      <td>Kensington and Chelsea</td>\n",
       "      <td>-0.173647</td>\n",
       "      <td>1</td>\n",
       "      <td>2</td>\n",
       "      <td>Wet or damp</td>\n",
       "      <td>Single carriageway</td>\n",
       "      <td>Urban</td>\n",
       "      <td>Raining no high winds</td>\n",
       "      <td>Car</td>\n",
       "    </tr>\n",
       "    <tr>\n",
       "      <th>2</th>\n",
       "      <td>200701BS66127</td>\n",
       "      <td>Serious</td>\n",
       "      <td>26/08/2019</td>\n",
       "      <td>51.517715</td>\n",
       "      <td>Darkness - lighting unknown</td>\n",
       "      <td>Kensington and Chelsea</td>\n",
       "      <td>-0.210215</td>\n",
       "      <td>1</td>\n",
       "      <td>3</td>\n",
       "      <td>Dry</td>\n",
       "      <td>NaN</td>\n",
       "      <td>Urban</td>\n",
       "      <td>NaN</td>\n",
       "      <td>Taxi/Private hire car</td>\n",
       "    </tr>\n",
       "    <tr>\n",
       "      <th>3</th>\n",
       "      <td>200701BS66128</td>\n",
       "      <td>Serious</td>\n",
       "      <td>16/08/2019</td>\n",
       "      <td>51.495478</td>\n",
       "      <td>Daylight</td>\n",
       "      <td>Kensington and Chelsea</td>\n",
       "      <td>-0.202731</td>\n",
       "      <td>1</td>\n",
       "      <td>4</td>\n",
       "      <td>Dry</td>\n",
       "      <td>Single carriageway</td>\n",
       "      <td>Urban</td>\n",
       "      <td>Fine no high winds</td>\n",
       "      <td>Bus or coach (17 or more pass seats)</td>\n",
       "    </tr>\n",
       "    <tr>\n",
       "      <th>4</th>\n",
       "      <td>200701BS66837</td>\n",
       "      <td>Slight</td>\n",
       "      <td>03/09/2019</td>\n",
       "      <td>51.488576</td>\n",
       "      <td>Darkness - lights lit</td>\n",
       "      <td>Kensington and Chelsea</td>\n",
       "      <td>-0.192487</td>\n",
       "      <td>1</td>\n",
       "      <td>2</td>\n",
       "      <td>Dry</td>\n",
       "      <td>NaN</td>\n",
       "      <td>Urban</td>\n",
       "      <td>NaN</td>\n",
       "      <td>Other vehicle</td>\n",
       "    </tr>\n",
       "    <tr>\n",
       "      <th>...</th>\n",
       "      <td>...</td>\n",
       "      <td>...</td>\n",
       "      <td>...</td>\n",
       "      <td>...</td>\n",
       "      <td>...</td>\n",
       "      <td>...</td>\n",
       "      <td>...</td>\n",
       "      <td>...</td>\n",
       "      <td>...</td>\n",
       "      <td>...</td>\n",
       "      <td>...</td>\n",
       "      <td>...</td>\n",
       "      <td>...</td>\n",
       "      <td>...</td>\n",
       "    </tr>\n",
       "    <tr>\n",
       "      <th>660674</th>\n",
       "      <td>201091NM01760</td>\n",
       "      <td>Slight</td>\n",
       "      <td>18/02/2022</td>\n",
       "      <td>57.374005</td>\n",
       "      <td>Daylight</td>\n",
       "      <td>Highland</td>\n",
       "      <td>-3.467828</td>\n",
       "      <td>2</td>\n",
       "      <td>1</td>\n",
       "      <td>Dry</td>\n",
       "      <td>Single carriageway</td>\n",
       "      <td>Rural</td>\n",
       "      <td>Fine no high winds</td>\n",
       "      <td>Car</td>\n",
       "    </tr>\n",
       "    <tr>\n",
       "      <th>660675</th>\n",
       "      <td>201091NM01881</td>\n",
       "      <td>Slight</td>\n",
       "      <td>21/02/2022</td>\n",
       "      <td>57.232273</td>\n",
       "      <td>Darkness - no lighting</td>\n",
       "      <td>Highland</td>\n",
       "      <td>-3.809281</td>\n",
       "      <td>1</td>\n",
       "      <td>1</td>\n",
       "      <td>Frost or ice</td>\n",
       "      <td>Single carriageway</td>\n",
       "      <td>Rural</td>\n",
       "      <td>Fine no high winds</td>\n",
       "      <td>Car</td>\n",
       "    </tr>\n",
       "    <tr>\n",
       "      <th>660676</th>\n",
       "      <td>201091NM01935</td>\n",
       "      <td>Slight</td>\n",
       "      <td>23/02/2022</td>\n",
       "      <td>57.585044</td>\n",
       "      <td>Daylight</td>\n",
       "      <td>Highland</td>\n",
       "      <td>-3.862727</td>\n",
       "      <td>1</td>\n",
       "      <td>3</td>\n",
       "      <td>Frost or ice</td>\n",
       "      <td>Single carriageway</td>\n",
       "      <td>Rural</td>\n",
       "      <td>Fine no high winds</td>\n",
       "      <td>Car</td>\n",
       "    </tr>\n",
       "    <tr>\n",
       "      <th>660677</th>\n",
       "      <td>201091NM01964</td>\n",
       "      <td>Serious</td>\n",
       "      <td>23/02/2022</td>\n",
       "      <td>57.214898</td>\n",
       "      <td>Darkness - no lighting</td>\n",
       "      <td>Highland</td>\n",
       "      <td>-3.823997</td>\n",
       "      <td>1</td>\n",
       "      <td>2</td>\n",
       "      <td>Wet or damp</td>\n",
       "      <td>Single carriageway</td>\n",
       "      <td>Rural</td>\n",
       "      <td>Fine no high winds</td>\n",
       "      <td>Motorcycle over 500cc</td>\n",
       "    </tr>\n",
       "    <tr>\n",
       "      <th>660678</th>\n",
       "      <td>201091NM02142</td>\n",
       "      <td>Serious</td>\n",
       "      <td>28/02/2022</td>\n",
       "      <td>57.575210</td>\n",
       "      <td>Daylight</td>\n",
       "      <td>Highland</td>\n",
       "      <td>-3.895673</td>\n",
       "      <td>1</td>\n",
       "      <td>1</td>\n",
       "      <td>Wet or damp</td>\n",
       "      <td>Dual carriageway</td>\n",
       "      <td>Rural</td>\n",
       "      <td>Snowing no high winds</td>\n",
       "      <td>Car</td>\n",
       "    </tr>\n",
       "  </tbody>\n",
       "</table>\n",
       "<p>660679 rows × 14 columns</p>\n",
       "</div>"
      ],
      "text/plain": [
       "                Index Accident_Severity Accident Date   Latitude  \\\n",
       "0       200701BS64157           Serious    05/06/2019  51.506187   \n",
       "1       200701BS65737           Serious    02/07/2019  51.495029   \n",
       "2       200701BS66127           Serious    26/08/2019  51.517715   \n",
       "3       200701BS66128           Serious    16/08/2019  51.495478   \n",
       "4       200701BS66837            Slight    03/09/2019  51.488576   \n",
       "...               ...               ...           ...        ...   \n",
       "660674  201091NM01760            Slight    18/02/2022  57.374005   \n",
       "660675  201091NM01881            Slight    21/02/2022  57.232273   \n",
       "660676  201091NM01935            Slight    23/02/2022  57.585044   \n",
       "660677  201091NM01964           Serious    23/02/2022  57.214898   \n",
       "660678  201091NM02142           Serious    28/02/2022  57.575210   \n",
       "\n",
       "                   Light_Conditions           District Area  Longitude  \\\n",
       "0             Darkness - lights lit  Kensington and Chelsea  -0.209082   \n",
       "1                          Daylight  Kensington and Chelsea  -0.173647   \n",
       "2       Darkness - lighting unknown  Kensington and Chelsea  -0.210215   \n",
       "3                          Daylight  Kensington and Chelsea  -0.202731   \n",
       "4             Darkness - lights lit  Kensington and Chelsea  -0.192487   \n",
       "...                             ...                     ...        ...   \n",
       "660674                     Daylight                Highland  -3.467828   \n",
       "660675       Darkness - no lighting                Highland  -3.809281   \n",
       "660676                     Daylight                Highland  -3.862727   \n",
       "660677       Darkness - no lighting                Highland  -3.823997   \n",
       "660678                     Daylight                Highland  -3.895673   \n",
       "\n",
       "        Number_of_Casualties  Number_of_Vehicles Road_Surface_Conditions  \\\n",
       "0                          1                   2                     Dry   \n",
       "1                          1                   2             Wet or damp   \n",
       "2                          1                   3                     Dry   \n",
       "3                          1                   4                     Dry   \n",
       "4                          1                   2                     Dry   \n",
       "...                      ...                 ...                     ...   \n",
       "660674                     2                   1                     Dry   \n",
       "660675                     1                   1            Frost or ice   \n",
       "660676                     1                   3            Frost or ice   \n",
       "660677                     1                   2             Wet or damp   \n",
       "660678                     1                   1             Wet or damp   \n",
       "\n",
       "                 Road_Type Urban_or_Rural_Area     Weather_Conditions  \\\n",
       "0       Single carriageway               Urban     Fine no high winds   \n",
       "1       Single carriageway               Urban  Raining no high winds   \n",
       "2                      NaN               Urban                    NaN   \n",
       "3       Single carriageway               Urban     Fine no high winds   \n",
       "4                      NaN               Urban                    NaN   \n",
       "...                    ...                 ...                    ...   \n",
       "660674  Single carriageway               Rural     Fine no high winds   \n",
       "660675  Single carriageway               Rural     Fine no high winds   \n",
       "660676  Single carriageway               Rural     Fine no high winds   \n",
       "660677  Single carriageway               Rural     Fine no high winds   \n",
       "660678    Dual carriageway               Rural  Snowing no high winds   \n",
       "\n",
       "                                Vehicle_Type  \n",
       "0                                        Car  \n",
       "1                                        Car  \n",
       "2                      Taxi/Private hire car  \n",
       "3       Bus or coach (17 or more pass seats)  \n",
       "4                              Other vehicle  \n",
       "...                                      ...  \n",
       "660674                                   Car  \n",
       "660675                                   Car  \n",
       "660676                                   Car  \n",
       "660677                 Motorcycle over 500cc  \n",
       "660678                                   Car  \n",
       "\n",
       "[660679 rows x 14 columns]"
      ]
     },
     "execution_count": 4,
     "metadata": {},
     "output_type": "execute_result"
    }
   ],
   "source": [
    "accident_df"
   ]
  },
  {
   "cell_type": "code",
   "execution_count": 5,
   "id": "bfcc125e-451f-4334-8c48-4d7bd4c28e93",
   "metadata": {},
   "outputs": [
    {
     "data": {
      "text/plain": [
       "Index                          0\n",
       "Accident_Severity              0\n",
       "Accident Date                  0\n",
       "Latitude                      25\n",
       "Light_Conditions               0\n",
       "District Area                  0\n",
       "Longitude                     26\n",
       "Number_of_Casualties           0\n",
       "Number_of_Vehicles             0\n",
       "Road_Surface_Conditions      726\n",
       "Road_Type                   4520\n",
       "Urban_or_Rural_Area           15\n",
       "Weather_Conditions         14128\n",
       "Vehicle_Type                   0\n",
       "dtype: int64"
      ]
     },
     "execution_count": 5,
     "metadata": {},
     "output_type": "execute_result"
    }
   ],
   "source": [
    "accident_df.isnull().sum()"
   ]
  },
  {
   "cell_type": "code",
   "execution_count": 6,
   "id": "0f93d52c-5a0d-4975-b49c-73b0a55cd2d6",
   "metadata": {},
   "outputs": [],
   "source": [
    "accident_df['Latitude']= accident_df['Latitude'].fillna(accident_df['Latitude'].mode()[0])\n",
    "accident_df['Longitude']= accident_df['Longitude'].fillna(accident_df['Longitude'].mode()[0])\n",
    "accident_df['Road_Surface_Conditions']= accident_df['Road_Surface_Conditions'].fillna('unknown surface condition')\n",
    "accident_df['Weather_Conditions']= accident_df['Weather_Conditions'].fillna('unknown weather condition')\n",
    "accident_df['Road_Type']= accident_df['Road_Type'].fillna('unknown road type')\n",
    "accident_df['Urban_or_Rural_Area']= accident_df['Urban_or_Rural_Area'].fillna(accident_df['Urban_or_Rural_Area'].mode()[0])"
   ]
  },
  {
   "cell_type": "code",
   "execution_count": 7,
   "id": "77876aab-372e-414c-8792-f9b9a5c160ba",
   "metadata": {},
   "outputs": [
    {
     "data": {
      "text/plain": [
       "Index                      0\n",
       "Accident_Severity          0\n",
       "Accident Date              0\n",
       "Latitude                   0\n",
       "Light_Conditions           0\n",
       "District Area              0\n",
       "Longitude                  0\n",
       "Number_of_Casualties       0\n",
       "Number_of_Vehicles         0\n",
       "Road_Surface_Conditions    0\n",
       "Road_Type                  0\n",
       "Urban_or_Rural_Area        0\n",
       "Weather_Conditions         0\n",
       "Vehicle_Type               0\n",
       "dtype: int64"
      ]
     },
     "execution_count": 7,
     "metadata": {},
     "output_type": "execute_result"
    }
   ],
   "source": [
    "accident_df.isnull().sum()"
   ]
  },
  {
   "cell_type": "code",
   "execution_count": 8,
   "id": "45be5089-f0e0-4783-8832-f0bdc74ee09b",
   "metadata": {},
   "outputs": [],
   "source": [
    "accident_df['Index']=accident_df['Index'].astype('category')\n",
    "accident_df['Accident_Severity']=accident_df['Accident_Severity'].astype('category')\n",
    "accident_df['Light_Conditions']=accident_df['Light_Conditions'].astype('category')\n",
    "accident_df['District Area']=accident_df['District Area'].astype('category')\n",
    "accident_df['Road_Surface_Conditions']=accident_df['Road_Surface_Conditions'].astype('category')\n",
    "accident_df['Road_Type']=accident_df['Road_Type'].astype('category')\n",
    "accident_df['Urban_or_Rural_Area']=accident_df['Urban_or_Rural_Area'].astype('category')\n",
    "accident_df['Weather_Conditions']=accident_df['Weather_Conditions'].astype('category')\n",
    "accident_df['Latitude']=accident_df['Latitude'].astype('category')\n",
    "accident_df['Longitude']=accident_df['Longitude'].astype('category')\n",
    "accident_df['Vehicle_Type']=accident_df['Vehicle_Type'].astype('category')\n",
    "accident_df['Accident Date']= pd.to_datetime (accident_df['Accident Date'], dayfirst =True, errors = 'coerce')"
   ]
  },
  {
   "cell_type": "code",
   "execution_count": 9,
   "id": "5b933385-103f-425e-bc29-ca437283a502",
   "metadata": {},
   "outputs": [
    {
     "name": "stdout",
     "output_type": "stream",
     "text": [
      "<class 'pandas.core.frame.DataFrame'>\n",
      "RangeIndex: 660679 entries, 0 to 660678\n",
      "Data columns (total 14 columns):\n",
      " #   Column                   Non-Null Count   Dtype         \n",
      "---  ------                   --------------   -----         \n",
      " 0   Index                    660679 non-null  category      \n",
      " 1   Accident_Severity        660679 non-null  category      \n",
      " 2   Accident Date            660679 non-null  datetime64[ns]\n",
      " 3   Latitude                 660679 non-null  category      \n",
      " 4   Light_Conditions         660679 non-null  category      \n",
      " 5   District Area            660679 non-null  category      \n",
      " 6   Longitude                660679 non-null  category      \n",
      " 7   Number_of_Casualties     660679 non-null  int64         \n",
      " 8   Number_of_Vehicles       660679 non-null  int64         \n",
      " 9   Road_Surface_Conditions  660679 non-null  category      \n",
      " 10  Road_Type                660679 non-null  category      \n",
      " 11  Urban_or_Rural_Area      660679 non-null  category      \n",
      " 12  Weather_Conditions       660679 non-null  category      \n",
      " 13  Vehicle_Type             660679 non-null  category      \n",
      "dtypes: category(11), datetime64[ns](1), int64(2)\n",
      "memory usage: 87.9 MB\n"
     ]
    }
   ],
   "source": [
    "accident_df.info()"
   ]
  },
  {
   "cell_type": "code",
   "execution_count": 10,
   "id": "465f05bd-d89b-4515-b24a-d6c0ddc7648b",
   "metadata": {},
   "outputs": [],
   "source": [
    "accident_df['Year']=accident_df['Accident Date'].dt.year"
   ]
  },
  {
   "cell_type": "code",
   "execution_count": 11,
   "id": "7ecb12ec-6f5f-472c-b014-fb6faff44059",
   "metadata": {},
   "outputs": [],
   "source": [
    "accident_df['Month']=accident_df['Accident Date'].dt.month"
   ]
  },
  {
   "cell_type": "code",
   "execution_count": 12,
   "id": "5928aac0-b806-4e07-8ea8-471930fcf0f2",
   "metadata": {},
   "outputs": [
    {
     "data": {
      "text/html": [
       "<div>\n",
       "<style scoped>\n",
       "    .dataframe tbody tr th:only-of-type {\n",
       "        vertical-align: middle;\n",
       "    }\n",
       "\n",
       "    .dataframe tbody tr th {\n",
       "        vertical-align: top;\n",
       "    }\n",
       "\n",
       "    .dataframe thead th {\n",
       "        text-align: right;\n",
       "    }\n",
       "</style>\n",
       "<table border=\"1\" class=\"dataframe\">\n",
       "  <thead>\n",
       "    <tr style=\"text-align: right;\">\n",
       "      <th></th>\n",
       "      <th>Index</th>\n",
       "      <th>Accident_Severity</th>\n",
       "      <th>Accident Date</th>\n",
       "      <th>Latitude</th>\n",
       "      <th>Light_Conditions</th>\n",
       "      <th>District Area</th>\n",
       "      <th>Longitude</th>\n",
       "      <th>Number_of_Casualties</th>\n",
       "      <th>Number_of_Vehicles</th>\n",
       "      <th>Road_Surface_Conditions</th>\n",
       "      <th>Road_Type</th>\n",
       "      <th>Urban_or_Rural_Area</th>\n",
       "      <th>Weather_Conditions</th>\n",
       "      <th>Vehicle_Type</th>\n",
       "      <th>Year</th>\n",
       "      <th>Month</th>\n",
       "    </tr>\n",
       "  </thead>\n",
       "  <tbody>\n",
       "    <tr>\n",
       "      <th>0</th>\n",
       "      <td>200701BS64157</td>\n",
       "      <td>Serious</td>\n",
       "      <td>2019-06-05</td>\n",
       "      <td>51.506187</td>\n",
       "      <td>Darkness - lights lit</td>\n",
       "      <td>Kensington and Chelsea</td>\n",
       "      <td>-0.209082</td>\n",
       "      <td>1</td>\n",
       "      <td>2</td>\n",
       "      <td>Dry</td>\n",
       "      <td>Single carriageway</td>\n",
       "      <td>Urban</td>\n",
       "      <td>Fine no high winds</td>\n",
       "      <td>Car</td>\n",
       "      <td>2019</td>\n",
       "      <td>6</td>\n",
       "    </tr>\n",
       "    <tr>\n",
       "      <th>1</th>\n",
       "      <td>200701BS65737</td>\n",
       "      <td>Serious</td>\n",
       "      <td>2019-07-02</td>\n",
       "      <td>51.495029</td>\n",
       "      <td>Daylight</td>\n",
       "      <td>Kensington and Chelsea</td>\n",
       "      <td>-0.173647</td>\n",
       "      <td>1</td>\n",
       "      <td>2</td>\n",
       "      <td>Wet or damp</td>\n",
       "      <td>Single carriageway</td>\n",
       "      <td>Urban</td>\n",
       "      <td>Raining no high winds</td>\n",
       "      <td>Car</td>\n",
       "      <td>2019</td>\n",
       "      <td>7</td>\n",
       "    </tr>\n",
       "    <tr>\n",
       "      <th>2</th>\n",
       "      <td>200701BS66127</td>\n",
       "      <td>Serious</td>\n",
       "      <td>2019-08-26</td>\n",
       "      <td>51.517715</td>\n",
       "      <td>Darkness - lighting unknown</td>\n",
       "      <td>Kensington and Chelsea</td>\n",
       "      <td>-0.210215</td>\n",
       "      <td>1</td>\n",
       "      <td>3</td>\n",
       "      <td>Dry</td>\n",
       "      <td>unknown road type</td>\n",
       "      <td>Urban</td>\n",
       "      <td>unknown weather condition</td>\n",
       "      <td>Taxi/Private hire car</td>\n",
       "      <td>2019</td>\n",
       "      <td>8</td>\n",
       "    </tr>\n",
       "    <tr>\n",
       "      <th>3</th>\n",
       "      <td>200701BS66128</td>\n",
       "      <td>Serious</td>\n",
       "      <td>2019-08-16</td>\n",
       "      <td>51.495478</td>\n",
       "      <td>Daylight</td>\n",
       "      <td>Kensington and Chelsea</td>\n",
       "      <td>-0.202731</td>\n",
       "      <td>1</td>\n",
       "      <td>4</td>\n",
       "      <td>Dry</td>\n",
       "      <td>Single carriageway</td>\n",
       "      <td>Urban</td>\n",
       "      <td>Fine no high winds</td>\n",
       "      <td>Bus or coach (17 or more pass seats)</td>\n",
       "      <td>2019</td>\n",
       "      <td>8</td>\n",
       "    </tr>\n",
       "    <tr>\n",
       "      <th>4</th>\n",
       "      <td>200701BS66837</td>\n",
       "      <td>Slight</td>\n",
       "      <td>2019-09-03</td>\n",
       "      <td>51.488576</td>\n",
       "      <td>Darkness - lights lit</td>\n",
       "      <td>Kensington and Chelsea</td>\n",
       "      <td>-0.192487</td>\n",
       "      <td>1</td>\n",
       "      <td>2</td>\n",
       "      <td>Dry</td>\n",
       "      <td>unknown road type</td>\n",
       "      <td>Urban</td>\n",
       "      <td>unknown weather condition</td>\n",
       "      <td>Other vehicle</td>\n",
       "      <td>2019</td>\n",
       "      <td>9</td>\n",
       "    </tr>\n",
       "    <tr>\n",
       "      <th>...</th>\n",
       "      <td>...</td>\n",
       "      <td>...</td>\n",
       "      <td>...</td>\n",
       "      <td>...</td>\n",
       "      <td>...</td>\n",
       "      <td>...</td>\n",
       "      <td>...</td>\n",
       "      <td>...</td>\n",
       "      <td>...</td>\n",
       "      <td>...</td>\n",
       "      <td>...</td>\n",
       "      <td>...</td>\n",
       "      <td>...</td>\n",
       "      <td>...</td>\n",
       "      <td>...</td>\n",
       "      <td>...</td>\n",
       "    </tr>\n",
       "    <tr>\n",
       "      <th>660674</th>\n",
       "      <td>201091NM01760</td>\n",
       "      <td>Slight</td>\n",
       "      <td>2022-02-18</td>\n",
       "      <td>57.374005</td>\n",
       "      <td>Daylight</td>\n",
       "      <td>Highland</td>\n",
       "      <td>-3.467828</td>\n",
       "      <td>2</td>\n",
       "      <td>1</td>\n",
       "      <td>Dry</td>\n",
       "      <td>Single carriageway</td>\n",
       "      <td>Rural</td>\n",
       "      <td>Fine no high winds</td>\n",
       "      <td>Car</td>\n",
       "      <td>2022</td>\n",
       "      <td>2</td>\n",
       "    </tr>\n",
       "    <tr>\n",
       "      <th>660675</th>\n",
       "      <td>201091NM01881</td>\n",
       "      <td>Slight</td>\n",
       "      <td>2022-02-21</td>\n",
       "      <td>57.232273</td>\n",
       "      <td>Darkness - no lighting</td>\n",
       "      <td>Highland</td>\n",
       "      <td>-3.809281</td>\n",
       "      <td>1</td>\n",
       "      <td>1</td>\n",
       "      <td>Frost or ice</td>\n",
       "      <td>Single carriageway</td>\n",
       "      <td>Rural</td>\n",
       "      <td>Fine no high winds</td>\n",
       "      <td>Car</td>\n",
       "      <td>2022</td>\n",
       "      <td>2</td>\n",
       "    </tr>\n",
       "    <tr>\n",
       "      <th>660676</th>\n",
       "      <td>201091NM01935</td>\n",
       "      <td>Slight</td>\n",
       "      <td>2022-02-23</td>\n",
       "      <td>57.585044</td>\n",
       "      <td>Daylight</td>\n",
       "      <td>Highland</td>\n",
       "      <td>-3.862727</td>\n",
       "      <td>1</td>\n",
       "      <td>3</td>\n",
       "      <td>Frost or ice</td>\n",
       "      <td>Single carriageway</td>\n",
       "      <td>Rural</td>\n",
       "      <td>Fine no high winds</td>\n",
       "      <td>Car</td>\n",
       "      <td>2022</td>\n",
       "      <td>2</td>\n",
       "    </tr>\n",
       "    <tr>\n",
       "      <th>660677</th>\n",
       "      <td>201091NM01964</td>\n",
       "      <td>Serious</td>\n",
       "      <td>2022-02-23</td>\n",
       "      <td>57.214898</td>\n",
       "      <td>Darkness - no lighting</td>\n",
       "      <td>Highland</td>\n",
       "      <td>-3.823997</td>\n",
       "      <td>1</td>\n",
       "      <td>2</td>\n",
       "      <td>Wet or damp</td>\n",
       "      <td>Single carriageway</td>\n",
       "      <td>Rural</td>\n",
       "      <td>Fine no high winds</td>\n",
       "      <td>Motorcycle over 500cc</td>\n",
       "      <td>2022</td>\n",
       "      <td>2</td>\n",
       "    </tr>\n",
       "    <tr>\n",
       "      <th>660678</th>\n",
       "      <td>201091NM02142</td>\n",
       "      <td>Serious</td>\n",
       "      <td>2022-02-28</td>\n",
       "      <td>57.575210</td>\n",
       "      <td>Daylight</td>\n",
       "      <td>Highland</td>\n",
       "      <td>-3.895673</td>\n",
       "      <td>1</td>\n",
       "      <td>1</td>\n",
       "      <td>Wet or damp</td>\n",
       "      <td>Dual carriageway</td>\n",
       "      <td>Rural</td>\n",
       "      <td>Snowing no high winds</td>\n",
       "      <td>Car</td>\n",
       "      <td>2022</td>\n",
       "      <td>2</td>\n",
       "    </tr>\n",
       "  </tbody>\n",
       "</table>\n",
       "<p>660679 rows × 16 columns</p>\n",
       "</div>"
      ],
      "text/plain": [
       "                Index Accident_Severity Accident Date   Latitude  \\\n",
       "0       200701BS64157           Serious    2019-06-05  51.506187   \n",
       "1       200701BS65737           Serious    2019-07-02  51.495029   \n",
       "2       200701BS66127           Serious    2019-08-26  51.517715   \n",
       "3       200701BS66128           Serious    2019-08-16  51.495478   \n",
       "4       200701BS66837            Slight    2019-09-03  51.488576   \n",
       "...               ...               ...           ...        ...   \n",
       "660674  201091NM01760            Slight    2022-02-18  57.374005   \n",
       "660675  201091NM01881            Slight    2022-02-21  57.232273   \n",
       "660676  201091NM01935            Slight    2022-02-23  57.585044   \n",
       "660677  201091NM01964           Serious    2022-02-23  57.214898   \n",
       "660678  201091NM02142           Serious    2022-02-28  57.575210   \n",
       "\n",
       "                   Light_Conditions           District Area Longitude  \\\n",
       "0             Darkness - lights lit  Kensington and Chelsea -0.209082   \n",
       "1                          Daylight  Kensington and Chelsea -0.173647   \n",
       "2       Darkness - lighting unknown  Kensington and Chelsea -0.210215   \n",
       "3                          Daylight  Kensington and Chelsea -0.202731   \n",
       "4             Darkness - lights lit  Kensington and Chelsea -0.192487   \n",
       "...                             ...                     ...       ...   \n",
       "660674                     Daylight                Highland -3.467828   \n",
       "660675       Darkness - no lighting                Highland -3.809281   \n",
       "660676                     Daylight                Highland -3.862727   \n",
       "660677       Darkness - no lighting                Highland -3.823997   \n",
       "660678                     Daylight                Highland -3.895673   \n",
       "\n",
       "        Number_of_Casualties  Number_of_Vehicles Road_Surface_Conditions  \\\n",
       "0                          1                   2                     Dry   \n",
       "1                          1                   2             Wet or damp   \n",
       "2                          1                   3                     Dry   \n",
       "3                          1                   4                     Dry   \n",
       "4                          1                   2                     Dry   \n",
       "...                      ...                 ...                     ...   \n",
       "660674                     2                   1                     Dry   \n",
       "660675                     1                   1            Frost or ice   \n",
       "660676                     1                   3            Frost or ice   \n",
       "660677                     1                   2             Wet or damp   \n",
       "660678                     1                   1             Wet or damp   \n",
       "\n",
       "                 Road_Type Urban_or_Rural_Area         Weather_Conditions  \\\n",
       "0       Single carriageway               Urban         Fine no high winds   \n",
       "1       Single carriageway               Urban      Raining no high winds   \n",
       "2        unknown road type               Urban  unknown weather condition   \n",
       "3       Single carriageway               Urban         Fine no high winds   \n",
       "4        unknown road type               Urban  unknown weather condition   \n",
       "...                    ...                 ...                        ...   \n",
       "660674  Single carriageway               Rural         Fine no high winds   \n",
       "660675  Single carriageway               Rural         Fine no high winds   \n",
       "660676  Single carriageway               Rural         Fine no high winds   \n",
       "660677  Single carriageway               Rural         Fine no high winds   \n",
       "660678    Dual carriageway               Rural      Snowing no high winds   \n",
       "\n",
       "                                Vehicle_Type  Year  Month  \n",
       "0                                        Car  2019      6  \n",
       "1                                        Car  2019      7  \n",
       "2                      Taxi/Private hire car  2019      8  \n",
       "3       Bus or coach (17 or more pass seats)  2019      8  \n",
       "4                              Other vehicle  2019      9  \n",
       "...                                      ...   ...    ...  \n",
       "660674                                   Car  2022      2  \n",
       "660675                                   Car  2022      2  \n",
       "660676                                   Car  2022      2  \n",
       "660677                 Motorcycle over 500cc  2022      2  \n",
       "660678                                   Car  2022      2  \n",
       "\n",
       "[660679 rows x 16 columns]"
      ]
     },
     "execution_count": 12,
     "metadata": {},
     "output_type": "execute_result"
    }
   ],
   "source": [
    "accident_df"
   ]
  },
  {
   "cell_type": "code",
   "execution_count": null,
   "id": "4a9b56be-7853-4a8b-810a-431497053fbc",
   "metadata": {},
   "outputs": [],
   "source": []
  },
  {
   "cell_type": "code",
   "execution_count": null,
   "id": "a0f8d57d-a482-48db-8363-0481c258ab6e",
   "metadata": {},
   "outputs": [],
   "source": []
  },
  {
   "cell_type": "markdown",
   "id": "b15d20ef-e86d-47c9-ab3a-8e1ff995e0c0",
   "metadata": {},
   "source": [
    "<h1>UniVariate</h1>"
   ]
  },
  {
   "cell_type": "markdown",
   "id": "28f6d3c2-e766-484e-8558-ffa8c78f0560",
   "metadata": {},
   "source": [
    "<h1>Insight 1</h1>"
   ]
  },
  {
   "cell_type": "code",
   "execution_count": 42,
   "id": "09ddf0b1-45b6-4748-8527-2fe7aa5023b8",
   "metadata": {},
   "outputs": [
    {
     "data": {
      "text/plain": [
       "District Area\n",
       "Birmingham    13491\n",
       "Leeds          8898\n",
       "Manchester     6720\n",
       "Bradford       6212\n",
       "Sheffield      5710\n",
       "Name: count, dtype: int64"
      ]
     },
     "execution_count": 42,
     "metadata": {},
     "output_type": "execute_result"
    }
   ],
   "source": [
    "accident_df['District Area'].value_counts().head()"
   ]
  },
  {
   "cell_type": "code",
   "execution_count": 43,
   "id": "d06dcda3-26ed-432f-a584-94d35674a8be",
   "metadata": {},
   "outputs": [
    {
     "data": {
      "text/plain": [
       "660679"
      ]
     },
     "execution_count": 43,
     "metadata": {},
     "output_type": "execute_result"
    }
   ],
   "source": [
    "accident_df['District Area'].value_counts().sum()"
   ]
  },
  {
   "cell_type": "markdown",
   "id": "a199e8f7-30ad-4543-ae83-0a4137010cef",
   "metadata": {},
   "source": [
    "<h3>Birmingham District have the most number of accident. It consititute 2.04% of the accidents</h3>"
   ]
  },
  {
   "cell_type": "markdown",
   "id": "3a5e3b42-e492-42b9-9be3-be13e791be44",
   "metadata": {},
   "source": [
    "<h1>Insight 2</h1>"
   ]
  },
  {
   "cell_type": "code",
   "execution_count": 14,
   "id": "2092b913-2e67-4a30-970c-53aaa4b9a63d",
   "metadata": {},
   "outputs": [
    {
     "data": {
      "text/plain": [
       "Weather_Conditions\n",
       "Fine no high winds           520885\n",
       "Raining no high winds         79696\n",
       "Other                         17150\n",
       "unknown weather condition     14128\n",
       "Raining + high winds           9615\n",
       "Fine + high winds              8554\n",
       "Snowing no high winds          6238\n",
       "Fog or mist                    3528\n",
       "Snowing + high winds            885\n",
       "Name: count, dtype: int64"
      ]
     },
     "execution_count": 14,
     "metadata": {},
     "output_type": "execute_result"
    }
   ],
   "source": [
    "accident_df['Weather_Conditions'].value_counts()"
   ]
  },
  {
   "cell_type": "markdown",
   "id": "a3cff22a-bf28-474b-b626-b818c5ff4011",
   "metadata": {},
   "source": [
    "<h3>The most common weather conditions during accident is Fine no high winds.</h3>"
   ]
  },
  {
   "cell_type": "markdown",
   "id": "ee8b028f-6872-4c0a-88e3-08e4844ceccf",
   "metadata": {},
   "source": [
    "<h1>Insight 3</h1>"
   ]
  },
  {
   "cell_type": "code",
   "execution_count": 15,
   "id": "a6058f77-51a0-4193-90c6-8c6b80cb4454",
   "metadata": {},
   "outputs": [
    {
     "data": {
      "text/plain": [
       "1.357040257068864"
      ]
     },
     "execution_count": 15,
     "metadata": {},
     "output_type": "execute_result"
    }
   ],
   "source": [
    "accident_df['Number_of_Casualties'].mean()"
   ]
  },
  {
   "cell_type": "markdown",
   "id": "09053059-c12b-451d-a378-b500c9774c77",
   "metadata": {},
   "source": [
    "<h3>1.35 is the average number of casualties per accident</h3>"
   ]
  },
  {
   "cell_type": "markdown",
   "id": "bfb08687-e979-4c8c-a6c8-67c8d87ccdc0",
   "metadata": {},
   "source": [
    "<h1>Insight 4</h1>"
   ]
  },
  {
   "cell_type": "code",
   "execution_count": 16,
   "id": "4bbc61bc-7e7d-4f13-ae5d-6615d498bf92",
   "metadata": {},
   "outputs": [
    {
     "data": {
      "text/plain": [
       "Road_Type\n",
       "Single carriageway    492143\n",
       "Dual carriageway       99424\n",
       "Roundabout             43992\n",
       "One way street         13559\n",
       "Slip road               7041\n",
       "unknown road type       4520\n",
       "Name: count, dtype: int64"
      ]
     },
     "execution_count": 16,
     "metadata": {},
     "output_type": "execute_result"
    }
   ],
   "source": [
    "accident_df['Road_Type'].value_counts()"
   ]
  },
  {
   "cell_type": "markdown",
   "id": "31b56959-9212-4728-8f94-366adeea34e7",
   "metadata": {},
   "source": [
    "<h3>Single Carriageway is the most common type of road for accidents</h3>"
   ]
  },
  {
   "cell_type": "markdown",
   "id": "16fa433a-d334-49fd-bae2-a957b8d6abf1",
   "metadata": {},
   "source": [
    "<h1>Insight 5</h1>"
   ]
  },
  {
   "cell_type": "markdown",
   "id": "e5945720-f35f-4a5e-9ed0-53de2411d91c",
   "metadata": {},
   "source": [
    "accident_df['Vehicle_Type'].value_counts()"
   ]
  },
  {
   "cell_type": "markdown",
   "id": "1ae54155-eaf9-4c06-807e-9c53fa5debbb",
   "metadata": {},
   "source": [
    "<h3>The most common vehicle type involve in an accident is a car</h3>"
   ]
  },
  {
   "cell_type": "markdown",
   "id": "e4f1d12f-70f5-4772-a4fc-0ee0ad93da07",
   "metadata": {},
   "source": [
    "<h1>Insight 6</h1>"
   ]
  },
  {
   "cell_type": "code",
   "execution_count": 17,
   "id": "2017ab29-9ac8-43c3-ba72-7da53e5fee7e",
   "metadata": {},
   "outputs": [
    {
     "data": {
      "text/plain": [
       "0    2\n",
       "Name: Number_of_Vehicles, dtype: int64"
      ]
     },
     "execution_count": 17,
     "metadata": {},
     "output_type": "execute_result"
    }
   ],
   "source": [
    "accident_df['Number_of_Vehicles'].mode()"
   ]
  },
  {
   "cell_type": "markdown",
   "id": "27c2bc35-3af9-46d3-8b8c-78ba8009fefe",
   "metadata": {},
   "source": [
    "<h3>2 Vehicle are mostly involve in an accident</h3>"
   ]
  },
  {
   "cell_type": "markdown",
   "id": "156b3a70-cfdd-407e-9a36-5337d7914325",
   "metadata": {},
   "source": [
    "<h1>Insight 7</h1>"
   ]
  },
  {
   "cell_type": "code",
   "execution_count": 18,
   "id": "225acdb0-74d1-431e-bd11-39c7d56199f3",
   "metadata": {},
   "outputs": [
    {
     "data": {
      "text/plain": [
       "Urban_or_Rural_Area\n",
       "Urban          421678\n",
       "Rural          238990\n",
       "Unallocated        11\n",
       "Name: count, dtype: int64"
      ]
     },
     "execution_count": 18,
     "metadata": {},
     "output_type": "execute_result"
    }
   ],
   "source": [
    "accident_df['Urban_or_Rural_Area'].value_counts()"
   ]
  },
  {
   "cell_type": "markdown",
   "id": "f131b092-605c-49b5-8282-41617a12556e",
   "metadata": {},
   "source": [
    "<h3>Most accident happens in Urban Area</h3>"
   ]
  },
  {
   "cell_type": "markdown",
   "id": "61bd977e-bb6c-47b9-81c1-9cad4aa334eb",
   "metadata": {},
   "source": [
    "<h1>Insight 8</h1>"
   ]
  },
  {
   "cell_type": "code",
   "execution_count": 19,
   "id": "58802c8c-99ff-44ea-8b2f-41e92ca9bc17",
   "metadata": {},
   "outputs": [
    {
     "data": {
      "text/plain": [
       "Year\n",
       "2019    182115\n",
       "2020    170591\n",
       "2021    163554\n",
       "2022    144419\n",
       "Name: count, dtype: int64"
      ]
     },
     "execution_count": 19,
     "metadata": {},
     "output_type": "execute_result"
    }
   ],
   "source": [
    "accident_df['Year'].value_counts()"
   ]
  },
  {
   "cell_type": "markdown",
   "id": "ffc460bb-d43a-4aa1-9953-8d5c4c4d9521",
   "metadata": {},
   "source": [
    "<h3>Theres highest number of accident in year 2019</h3>"
   ]
  },
  {
   "cell_type": "markdown",
   "id": "13e1e03f-9f4f-4718-95cc-e89ce7b52f31",
   "metadata": {},
   "source": [
    "<h1>Bivariate</h1>"
   ]
  },
  {
   "cell_type": "code",
   "execution_count": 20,
   "id": "80415370-298b-4126-b688-8f9a311bd87a",
   "metadata": {},
   "outputs": [
    {
     "data": {
      "text/html": [
       "<div>\n",
       "<style scoped>\n",
       "    .dataframe tbody tr th:only-of-type {\n",
       "        vertical-align: middle;\n",
       "    }\n",
       "\n",
       "    .dataframe tbody tr th {\n",
       "        vertical-align: top;\n",
       "    }\n",
       "\n",
       "    .dataframe thead th {\n",
       "        text-align: right;\n",
       "    }\n",
       "</style>\n",
       "<table border=\"1\" class=\"dataframe\">\n",
       "  <thead>\n",
       "    <tr style=\"text-align: right;\">\n",
       "      <th></th>\n",
       "      <th>Index</th>\n",
       "      <th>Accident_Severity</th>\n",
       "      <th>Accident Date</th>\n",
       "      <th>Latitude</th>\n",
       "      <th>Light_Conditions</th>\n",
       "      <th>District Area</th>\n",
       "      <th>Longitude</th>\n",
       "      <th>Number_of_Casualties</th>\n",
       "      <th>Number_of_Vehicles</th>\n",
       "      <th>Road_Surface_Conditions</th>\n",
       "      <th>Road_Type</th>\n",
       "      <th>Urban_or_Rural_Area</th>\n",
       "      <th>Weather_Conditions</th>\n",
       "      <th>Vehicle_Type</th>\n",
       "      <th>Year</th>\n",
       "      <th>Month</th>\n",
       "    </tr>\n",
       "  </thead>\n",
       "  <tbody>\n",
       "    <tr>\n",
       "      <th>0</th>\n",
       "      <td>200701BS64157</td>\n",
       "      <td>Serious</td>\n",
       "      <td>2019-06-05</td>\n",
       "      <td>51.506187</td>\n",
       "      <td>Darkness - lights lit</td>\n",
       "      <td>Kensington and Chelsea</td>\n",
       "      <td>-0.209082</td>\n",
       "      <td>1</td>\n",
       "      <td>2</td>\n",
       "      <td>Dry</td>\n",
       "      <td>Single carriageway</td>\n",
       "      <td>Urban</td>\n",
       "      <td>Fine no high winds</td>\n",
       "      <td>Car</td>\n",
       "      <td>2019</td>\n",
       "      <td>6</td>\n",
       "    </tr>\n",
       "    <tr>\n",
       "      <th>1</th>\n",
       "      <td>200701BS65737</td>\n",
       "      <td>Serious</td>\n",
       "      <td>2019-07-02</td>\n",
       "      <td>51.495029</td>\n",
       "      <td>Daylight</td>\n",
       "      <td>Kensington and Chelsea</td>\n",
       "      <td>-0.173647</td>\n",
       "      <td>1</td>\n",
       "      <td>2</td>\n",
       "      <td>Wet or damp</td>\n",
       "      <td>Single carriageway</td>\n",
       "      <td>Urban</td>\n",
       "      <td>Raining no high winds</td>\n",
       "      <td>Car</td>\n",
       "      <td>2019</td>\n",
       "      <td>7</td>\n",
       "    </tr>\n",
       "    <tr>\n",
       "      <th>2</th>\n",
       "      <td>200701BS66127</td>\n",
       "      <td>Serious</td>\n",
       "      <td>2019-08-26</td>\n",
       "      <td>51.517715</td>\n",
       "      <td>Darkness - lighting unknown</td>\n",
       "      <td>Kensington and Chelsea</td>\n",
       "      <td>-0.210215</td>\n",
       "      <td>1</td>\n",
       "      <td>3</td>\n",
       "      <td>Dry</td>\n",
       "      <td>unknown road type</td>\n",
       "      <td>Urban</td>\n",
       "      <td>unknown weather condition</td>\n",
       "      <td>Taxi/Private hire car</td>\n",
       "      <td>2019</td>\n",
       "      <td>8</td>\n",
       "    </tr>\n",
       "    <tr>\n",
       "      <th>3</th>\n",
       "      <td>200701BS66128</td>\n",
       "      <td>Serious</td>\n",
       "      <td>2019-08-16</td>\n",
       "      <td>51.495478</td>\n",
       "      <td>Daylight</td>\n",
       "      <td>Kensington and Chelsea</td>\n",
       "      <td>-0.202731</td>\n",
       "      <td>1</td>\n",
       "      <td>4</td>\n",
       "      <td>Dry</td>\n",
       "      <td>Single carriageway</td>\n",
       "      <td>Urban</td>\n",
       "      <td>Fine no high winds</td>\n",
       "      <td>Bus or coach (17 or more pass seats)</td>\n",
       "      <td>2019</td>\n",
       "      <td>8</td>\n",
       "    </tr>\n",
       "    <tr>\n",
       "      <th>4</th>\n",
       "      <td>200701BS66837</td>\n",
       "      <td>Slight</td>\n",
       "      <td>2019-09-03</td>\n",
       "      <td>51.488576</td>\n",
       "      <td>Darkness - lights lit</td>\n",
       "      <td>Kensington and Chelsea</td>\n",
       "      <td>-0.192487</td>\n",
       "      <td>1</td>\n",
       "      <td>2</td>\n",
       "      <td>Dry</td>\n",
       "      <td>unknown road type</td>\n",
       "      <td>Urban</td>\n",
       "      <td>unknown weather condition</td>\n",
       "      <td>Other vehicle</td>\n",
       "      <td>2019</td>\n",
       "      <td>9</td>\n",
       "    </tr>\n",
       "    <tr>\n",
       "      <th>...</th>\n",
       "      <td>...</td>\n",
       "      <td>...</td>\n",
       "      <td>...</td>\n",
       "      <td>...</td>\n",
       "      <td>...</td>\n",
       "      <td>...</td>\n",
       "      <td>...</td>\n",
       "      <td>...</td>\n",
       "      <td>...</td>\n",
       "      <td>...</td>\n",
       "      <td>...</td>\n",
       "      <td>...</td>\n",
       "      <td>...</td>\n",
       "      <td>...</td>\n",
       "      <td>...</td>\n",
       "      <td>...</td>\n",
       "    </tr>\n",
       "    <tr>\n",
       "      <th>660674</th>\n",
       "      <td>201091NM01760</td>\n",
       "      <td>Slight</td>\n",
       "      <td>2022-02-18</td>\n",
       "      <td>57.374005</td>\n",
       "      <td>Daylight</td>\n",
       "      <td>Highland</td>\n",
       "      <td>-3.467828</td>\n",
       "      <td>2</td>\n",
       "      <td>1</td>\n",
       "      <td>Dry</td>\n",
       "      <td>Single carriageway</td>\n",
       "      <td>Rural</td>\n",
       "      <td>Fine no high winds</td>\n",
       "      <td>Car</td>\n",
       "      <td>2022</td>\n",
       "      <td>2</td>\n",
       "    </tr>\n",
       "    <tr>\n",
       "      <th>660675</th>\n",
       "      <td>201091NM01881</td>\n",
       "      <td>Slight</td>\n",
       "      <td>2022-02-21</td>\n",
       "      <td>57.232273</td>\n",
       "      <td>Darkness - no lighting</td>\n",
       "      <td>Highland</td>\n",
       "      <td>-3.809281</td>\n",
       "      <td>1</td>\n",
       "      <td>1</td>\n",
       "      <td>Frost or ice</td>\n",
       "      <td>Single carriageway</td>\n",
       "      <td>Rural</td>\n",
       "      <td>Fine no high winds</td>\n",
       "      <td>Car</td>\n",
       "      <td>2022</td>\n",
       "      <td>2</td>\n",
       "    </tr>\n",
       "    <tr>\n",
       "      <th>660676</th>\n",
       "      <td>201091NM01935</td>\n",
       "      <td>Slight</td>\n",
       "      <td>2022-02-23</td>\n",
       "      <td>57.585044</td>\n",
       "      <td>Daylight</td>\n",
       "      <td>Highland</td>\n",
       "      <td>-3.862727</td>\n",
       "      <td>1</td>\n",
       "      <td>3</td>\n",
       "      <td>Frost or ice</td>\n",
       "      <td>Single carriageway</td>\n",
       "      <td>Rural</td>\n",
       "      <td>Fine no high winds</td>\n",
       "      <td>Car</td>\n",
       "      <td>2022</td>\n",
       "      <td>2</td>\n",
       "    </tr>\n",
       "    <tr>\n",
       "      <th>660677</th>\n",
       "      <td>201091NM01964</td>\n",
       "      <td>Serious</td>\n",
       "      <td>2022-02-23</td>\n",
       "      <td>57.214898</td>\n",
       "      <td>Darkness - no lighting</td>\n",
       "      <td>Highland</td>\n",
       "      <td>-3.823997</td>\n",
       "      <td>1</td>\n",
       "      <td>2</td>\n",
       "      <td>Wet or damp</td>\n",
       "      <td>Single carriageway</td>\n",
       "      <td>Rural</td>\n",
       "      <td>Fine no high winds</td>\n",
       "      <td>Motorcycle over 500cc</td>\n",
       "      <td>2022</td>\n",
       "      <td>2</td>\n",
       "    </tr>\n",
       "    <tr>\n",
       "      <th>660678</th>\n",
       "      <td>201091NM02142</td>\n",
       "      <td>Serious</td>\n",
       "      <td>2022-02-28</td>\n",
       "      <td>57.575210</td>\n",
       "      <td>Daylight</td>\n",
       "      <td>Highland</td>\n",
       "      <td>-3.895673</td>\n",
       "      <td>1</td>\n",
       "      <td>1</td>\n",
       "      <td>Wet or damp</td>\n",
       "      <td>Dual carriageway</td>\n",
       "      <td>Rural</td>\n",
       "      <td>Snowing no high winds</td>\n",
       "      <td>Car</td>\n",
       "      <td>2022</td>\n",
       "      <td>2</td>\n",
       "    </tr>\n",
       "  </tbody>\n",
       "</table>\n",
       "<p>660679 rows × 16 columns</p>\n",
       "</div>"
      ],
      "text/plain": [
       "                Index Accident_Severity Accident Date   Latitude  \\\n",
       "0       200701BS64157           Serious    2019-06-05  51.506187   \n",
       "1       200701BS65737           Serious    2019-07-02  51.495029   \n",
       "2       200701BS66127           Serious    2019-08-26  51.517715   \n",
       "3       200701BS66128           Serious    2019-08-16  51.495478   \n",
       "4       200701BS66837            Slight    2019-09-03  51.488576   \n",
       "...               ...               ...           ...        ...   \n",
       "660674  201091NM01760            Slight    2022-02-18  57.374005   \n",
       "660675  201091NM01881            Slight    2022-02-21  57.232273   \n",
       "660676  201091NM01935            Slight    2022-02-23  57.585044   \n",
       "660677  201091NM01964           Serious    2022-02-23  57.214898   \n",
       "660678  201091NM02142           Serious    2022-02-28  57.575210   \n",
       "\n",
       "                   Light_Conditions           District Area Longitude  \\\n",
       "0             Darkness - lights lit  Kensington and Chelsea -0.209082   \n",
       "1                          Daylight  Kensington and Chelsea -0.173647   \n",
       "2       Darkness - lighting unknown  Kensington and Chelsea -0.210215   \n",
       "3                          Daylight  Kensington and Chelsea -0.202731   \n",
       "4             Darkness - lights lit  Kensington and Chelsea -0.192487   \n",
       "...                             ...                     ...       ...   \n",
       "660674                     Daylight                Highland -3.467828   \n",
       "660675       Darkness - no lighting                Highland -3.809281   \n",
       "660676                     Daylight                Highland -3.862727   \n",
       "660677       Darkness - no lighting                Highland -3.823997   \n",
       "660678                     Daylight                Highland -3.895673   \n",
       "\n",
       "        Number_of_Casualties  Number_of_Vehicles Road_Surface_Conditions  \\\n",
       "0                          1                   2                     Dry   \n",
       "1                          1                   2             Wet or damp   \n",
       "2                          1                   3                     Dry   \n",
       "3                          1                   4                     Dry   \n",
       "4                          1                   2                     Dry   \n",
       "...                      ...                 ...                     ...   \n",
       "660674                     2                   1                     Dry   \n",
       "660675                     1                   1            Frost or ice   \n",
       "660676                     1                   3            Frost or ice   \n",
       "660677                     1                   2             Wet or damp   \n",
       "660678                     1                   1             Wet or damp   \n",
       "\n",
       "                 Road_Type Urban_or_Rural_Area         Weather_Conditions  \\\n",
       "0       Single carriageway               Urban         Fine no high winds   \n",
       "1       Single carriageway               Urban      Raining no high winds   \n",
       "2        unknown road type               Urban  unknown weather condition   \n",
       "3       Single carriageway               Urban         Fine no high winds   \n",
       "4        unknown road type               Urban  unknown weather condition   \n",
       "...                    ...                 ...                        ...   \n",
       "660674  Single carriageway               Rural         Fine no high winds   \n",
       "660675  Single carriageway               Rural         Fine no high winds   \n",
       "660676  Single carriageway               Rural         Fine no high winds   \n",
       "660677  Single carriageway               Rural         Fine no high winds   \n",
       "660678    Dual carriageway               Rural      Snowing no high winds   \n",
       "\n",
       "                                Vehicle_Type  Year  Month  \n",
       "0                                        Car  2019      6  \n",
       "1                                        Car  2019      7  \n",
       "2                      Taxi/Private hire car  2019      8  \n",
       "3       Bus or coach (17 or more pass seats)  2019      8  \n",
       "4                              Other vehicle  2019      9  \n",
       "...                                      ...   ...    ...  \n",
       "660674                                   Car  2022      2  \n",
       "660675                                   Car  2022      2  \n",
       "660676                                   Car  2022      2  \n",
       "660677                 Motorcycle over 500cc  2022      2  \n",
       "660678                                   Car  2022      2  \n",
       "\n",
       "[660679 rows x 16 columns]"
      ]
     },
     "execution_count": 20,
     "metadata": {},
     "output_type": "execute_result"
    }
   ],
   "source": [
    "accident_df"
   ]
  },
  {
   "cell_type": "markdown",
   "id": "c2320364-e189-4ce9-bf48-9db52ae8d403",
   "metadata": {},
   "source": [
    "<h1>Insight 9</h1>"
   ]
  },
  {
   "cell_type": "code",
   "execution_count": 21,
   "id": "ec135f18-b0f6-4626-abfe-ad231ec4249e",
   "metadata": {},
   "outputs": [
    {
     "data": {
      "text/plain": [
       "Road_Surface_Conditions\n",
       "Dry                          597723\n",
       "Flood over 3cm. deep           1521\n",
       "Frost or ice                  24976\n",
       "Snow                           8008\n",
       "Wet or damp                  263457\n",
       "unknown surface condition       883\n",
       "Name: Number_of_Casualties, dtype: int64"
      ]
     },
     "execution_count": 21,
     "metadata": {},
     "output_type": "execute_result"
    }
   ],
   "source": [
    "accident_df.groupby('Road_Surface_Conditions')['Number_of_Casualties'].sum()"
   ]
  },
  {
   "cell_type": "markdown",
   "id": "30e3d4ae-f833-440e-b12f-bd94ee89bb25",
   "metadata": {},
   "source": [
    "<h3>Despite offering better traction, dry road surfaces account for the highest number of casualties.</h3>"
   ]
  },
  {
   "cell_type": "markdown",
   "id": "797542cb-6ea6-4a7b-92fd-32f8e86acfff",
   "metadata": {},
   "source": [
    "<h1>Insight 10</h1>"
   ]
  },
  {
   "cell_type": "code",
   "execution_count": 22,
   "id": "3ce5897c-3743-44be-9bca-30ed5c851146",
   "metadata": {},
   "outputs": [
    {
     "data": {
      "text/plain": [
       "Weather_Conditions\n",
       "Fine + high winds             11856\n",
       "Fine no high winds           703445\n",
       "Fog or mist                    5126\n",
       "Other                         23236\n",
       "Raining + high winds          13621\n",
       "Raining no high winds        112229\n",
       "Snowing + high winds           1255\n",
       "Snowing no high winds          8370\n",
       "unknown weather condition     17430\n",
       "Name: Number_of_Casualties, dtype: int64"
      ]
     },
     "execution_count": 22,
     "metadata": {},
     "output_type": "execute_result"
    }
   ],
   "source": [
    "accident_df.groupby('Weather_Conditions')['Number_of_Casualties'].sum()"
   ]
  },
  {
   "cell_type": "markdown",
   "id": "c7683241-fcc0-47d6-a774-13553a0ffc04",
   "metadata": {},
   "source": [
    "<h3>Most accidents occur in fine no high winds, suggesting that environmental conditions alone are not the main cause of most accidents.</h3>"
   ]
  },
  {
   "cell_type": "markdown",
   "id": "aa2d1060-cfe4-47d0-a9ca-092f25eed2ed",
   "metadata": {},
   "source": [
    "<h1>Insight 11</h1>"
   ]
  },
  {
   "cell_type": "code",
   "execution_count": 23,
   "id": "1bf5c71e-8f84-47cd-9dd3-6b2e6118901d",
   "metadata": {},
   "outputs": [
    {
     "data": {
      "text/plain": [
       "Light_Conditions             Accident_Severity\n",
       "Darkness - lighting unknown  Slight                 5622\n",
       "                             Serious                 794\n",
       "                             Fatal                    68\n",
       "Darkness - lights lit        Slight               108345\n",
       "                             Serious               19130\n",
       "                             Fatal                  1860\n",
       "Darkness - lights unlit      Slight                 2138\n",
       "                             Serious                 360\n",
       "                             Fatal                    45\n",
       "Darkness - no lighting       Slight                28651\n",
       "                             Serious                7174\n",
       "                             Fatal                  1612\n",
       "Daylight                     Slight               419045\n",
       "                             Serious               60759\n",
       "                             Fatal                  5076\n",
       "Name: count, dtype: int64"
      ]
     },
     "execution_count": 23,
     "metadata": {},
     "output_type": "execute_result"
    }
   ],
   "source": [
    "accident_df.groupby('Light_Conditions')['Accident_Severity'].value_counts()"
   ]
  },
  {
   "cell_type": "markdown",
   "id": "cca3ac7a-1c3d-4d6a-b248-01a4880f7e91",
   "metadata": {},
   "source": [
    "<h3>Accidents occurring in daylight tend to be more severe</h3>"
   ]
  },
  {
   "cell_type": "markdown",
   "id": "033b571a-efa5-4c6d-b5ef-afa55eede32c",
   "metadata": {},
   "source": [
    "<h1>Insight 12</h1>"
   ]
  },
  {
   "cell_type": "code",
   "execution_count": 24,
   "id": "38d0f7c9-92b4-4435-a13d-9becf0563d20",
   "metadata": {},
   "outputs": [
    {
     "data": {
      "text/plain": [
       "Vehicle_Type\n",
       "Car                                      6577\n",
       "Van / Goods 3.5 tonnes mgw or under       467\n",
       "Motorcycle over 500cc                     339\n",
       "Bus or coach (17 or more pass seats)      325\n",
       "Goods 7.5 tonnes mgw and over             216\n",
       "Motorcycle 125cc and under                189\n",
       "Taxi/Private hire car                     155\n",
       "Motorcycle over 125cc and up to 500cc     105\n",
       "Motorcycle 50cc and under                  95\n",
       "Other vehicle                              70\n",
       "Goods over 3.5t. and under 7.5t            67\n",
       "Minibus (8 - 16 passenger seats)           29\n",
       "Agricultural vehicle                       21\n",
       "Pedal cycle                                 6\n",
       "Data missing or out of range                0\n",
       "Ridden horse                                0\n",
       "Name: count, dtype: int64"
      ]
     },
     "execution_count": 24,
     "metadata": {},
     "output_type": "execute_result"
    }
   ],
   "source": [
    "accident_df[accident_df['Accident_Severity'] == 'Fatal']['Vehicle_Type'].value_counts()"
   ]
  },
  {
   "cell_type": "markdown",
   "id": "79001077-840b-4e82-a5e5-43c6e3f86c9a",
   "metadata": {},
   "source": [
    "<h3>Cars are involved in the highest number of fatal accidents.</h3>"
   ]
  },
  {
   "cell_type": "markdown",
   "id": "def37dc1-3a9e-455b-9506-5779f73fe3e3",
   "metadata": {},
   "source": [
    "<h1>Insight 13</h1>"
   ]
  },
  {
   "cell_type": "code",
   "execution_count": 25,
   "id": "6e48cb42-bccd-4205-862f-a3c3734f8ae9",
   "metadata": {},
   "outputs": [
    {
     "data": {
      "text/plain": [
       "0.22888886126927557"
      ]
     },
     "execution_count": 25,
     "metadata": {},
     "output_type": "execute_result"
    }
   ],
   "source": [
    " accident_df['Number_of_Vehicles'].corr(accident_df['Number_of_Casualties'])"
   ]
  },
  {
   "cell_type": "markdown",
   "id": "1f326f14-76a0-4a37-8909-f419d9a3d8da",
   "metadata": {},
   "source": [
    "<h3> When the number of vehicles involved in an accident increases, the number of casualties also tends to increase. </h3>"
   ]
  },
  {
   "cell_type": "markdown",
   "id": "d15b7f2c-38a5-48fd-bde8-d2235cac1ee6",
   "metadata": {},
   "source": [
    "<h1>Insight 14</h1>"
   ]
  },
  {
   "cell_type": "code",
   "execution_count": 26,
   "id": "5d982a92-1c8c-4939-abd2-be7b87bc5637",
   "metadata": {},
   "outputs": [
    {
     "data": {
      "text/plain": [
       "Road_Surface_Conditions\n",
       "Dry                          5788\n",
       "Wet or damp                  2620\n",
       "Frost or ice                  193\n",
       "Snow                           35\n",
       "Flood over 3cm. deep           23\n",
       "unknown surface condition       2\n",
       "Name: count, dtype: int64"
      ]
     },
     "execution_count": 26,
     "metadata": {},
     "output_type": "execute_result"
    }
   ],
   "source": [
    "accident_df[accident_df['Accident_Severity'] == 'Fatal']['Road_Surface_Conditions'].value_counts()"
   ]
  },
  {
   "cell_type": "markdown",
   "id": "c82be919-0c89-4f7b-a362-3054a823b8c2",
   "metadata": {},
   "source": [
    "<h3>Dry road conditions have the highest number of fatal accidents.</h3>"
   ]
  },
  {
   "cell_type": "markdown",
   "id": "788fa27e-a12e-4ae1-9204-720e100bdbf0",
   "metadata": {},
   "source": [
    "<h1>Insight 15</h1>"
   ]
  },
  {
   "cell_type": "code",
   "execution_count": 27,
   "id": "bfcaa67f-5347-431d-9949-70dc8297995c",
   "metadata": {},
   "outputs": [
    {
     "data": {
      "text/plain": [
       "Year\n",
       "2019    247780\n",
       "2020    230905\n",
       "2021    222146\n",
       "2022    195737\n",
       "Name: Number_of_Casualties, dtype: int64"
      ]
     },
     "execution_count": 27,
     "metadata": {},
     "output_type": "execute_result"
    }
   ],
   "source": [
    "accident_df.groupby('Year')['Number_of_Casualties'].sum()"
   ]
  },
  {
   "cell_type": "markdown",
   "id": "0ab8645f-705e-4fc6-9eb2-f5ba9aa35816",
   "metadata": {},
   "source": [
    "<h3>The year 2019 recorded the highest number of casualties.</h3>"
   ]
  },
  {
   "cell_type": "markdown",
   "id": "7be92356-cc77-485e-ae9c-af396bcb3490",
   "metadata": {},
   "source": [
    "<h1>Insight 16</h1>"
   ]
  },
  {
   "cell_type": "code",
   "execution_count": 28,
   "id": "11c1b308-a1b6-41cf-bc4b-c5a0ba0f61fc",
   "metadata": {},
   "outputs": [
    {
     "data": {
      "text/plain": [
       "Road_Type           Weather_Conditions\n",
       "Single carriageway  Fine no high winds    5375\n",
       "dtype: int64"
      ]
     },
     "execution_count": 28,
     "metadata": {},
     "output_type": "execute_result"
    }
   ],
   "source": [
    "fatal_accidents = accident_df[accident_df['Accident_Severity'] == 'Fatal']\n",
    "fatal_counts = fatal_accidents.groupby(['Road_Type', 'Weather_Conditions']).size()\n",
    "fatal_counts.sort_values(ascending=False).head(1)"
   ]
  },
  {
   "cell_type": "markdown",
   "id": "7cc6ae9c-a5fe-4903-83d7-567050735a06",
   "metadata": {},
   "source": [
    "<h3>Most fatal accidents happen on single carriageways when the weather is fine with no strong winds. This suggests that accidents are likely caused by factors like speeding, reckless driving, or road conditions rather than bad weather.</h3>"
   ]
  },
  {
   "cell_type": "markdown",
   "id": "844bb1e0-d7fd-44c0-838f-c453508a2731",
   "metadata": {},
   "source": [
    "<h1>Insight 17</h1>"
   ]
  },
  {
   "cell_type": "code",
   "execution_count": 29,
   "id": "1d85f699-cbea-47a9-9009-eca64f621efc",
   "metadata": {},
   "outputs": [
    {
     "data": {
      "text/plain": [
       "Urban_or_Rural_Area  Number_of_Vehicles\n",
       "Rural                1                      1.269725\n",
       "                     2                      1.486574\n",
       "                     3                      1.825630\n",
       "                     4                      2.132179\n",
       "                     5                      2.473944\n",
       "                     6                      2.810127\n",
       "                     7                      3.392857\n",
       "                     8                      4.009901\n",
       "                     9                      3.673913\n",
       "                     10                     3.500000\n",
       "                     11                     4.125000\n",
       "                     12                     2.285714\n",
       "                     13                     6.600000\n",
       "                     14                     5.444444\n",
       "                     15                     5.000000\n",
       "                     16                     8.500000\n",
       "                     19                    13.000000\n",
       "                     28                    16.000000\n",
       "                     32                     5.000000\n",
       "Unallocated          1                      1.000000\n",
       "                     2                      1.250000\n",
       "                     3                      1.000000\n",
       "                     4                           NaN\n",
       "                     5                           NaN\n",
       "                     6                           NaN\n",
       "                     7                           NaN\n",
       "                     8                           NaN\n",
       "                     9                           NaN\n",
       "                     10                          NaN\n",
       "                     11                          NaN\n",
       "                     12                          NaN\n",
       "                     13                          NaN\n",
       "                     14                          NaN\n",
       "                     15                          NaN\n",
       "                     16                          NaN\n",
       "                     19                          NaN\n",
       "                     28                          NaN\n",
       "                     32                          NaN\n",
       "Urban                1                      1.111077\n",
       "                     2                      1.318424\n",
       "                     3                      1.619434\n",
       "                     4                      1.849826\n",
       "                     5                      2.099617\n",
       "                     6                      2.281690\n",
       "                     7                      2.420000\n",
       "                     8                      2.065217\n",
       "                     9                      2.000000\n",
       "                     10                     4.000000\n",
       "                     11                     3.750000\n",
       "                     12                          NaN\n",
       "                     13                    14.000000\n",
       "                     14                          NaN\n",
       "                     15                          NaN\n",
       "                     16                     3.500000\n",
       "                     19                          NaN\n",
       "                     28                          NaN\n",
       "                     32                          NaN\n",
       "Name: Number_of_Casualties, dtype: float64"
      ]
     },
     "execution_count": 29,
     "metadata": {},
     "output_type": "execute_result"
    }
   ],
   "source": [
    "accident_df.groupby(['Urban_or_Rural_Area', 'Number_of_Vehicles'])['Number_of_Casualties'].mean()\n"
   ]
  },
  {
   "cell_type": "markdown",
   "id": "e66d0a73-515e-4660-8fdd-f01ae42d4217",
   "metadata": {},
   "source": [
    "<h3>In rural areas, accidents involving 28 vehicles lead to have the most number of casualties</h3>"
   ]
  },
  {
   "cell_type": "markdown",
   "id": "ce1fc912-10b3-424c-aaf5-76d911f568b3",
   "metadata": {},
   "source": [
    "<h1>Insight 18</h1>"
   ]
  },
  {
   "cell_type": "code",
   "execution_count": 32,
   "id": "a66726a5-5845-4930-8218-9265f96a5f79",
   "metadata": {},
   "outputs": [
    {
     "data": {
      "text/plain": [
       "Month\n",
       "11    60424\n",
       "10    59580\n",
       "7     57445\n",
       "6     56481\n",
       "9     56455\n",
       "5     56352\n",
       "3     54086\n",
       "8     53913\n",
       "1     52872\n",
       "12    51836\n",
       "4     51744\n",
       "2     49491\n",
       "Name: count, dtype: int64"
      ]
     },
     "execution_count": 32,
     "metadata": {},
     "output_type": "execute_result"
    }
   ],
   "source": [
    "accident_df['Month'].value_counts()"
   ]
  },
  {
   "cell_type": "markdown",
   "id": "db05b21f-a633-4446-9222-47db7634d140",
   "metadata": {},
   "source": [
    "<h3>November has the highest number of accidents. This could be due to increased travel, holiday rush, or changing weather conditions affecting road safety.</h3>"
   ]
  },
  {
   "cell_type": "markdown",
   "id": "06eb890c-8073-40e0-b2f0-8f879366d53f",
   "metadata": {},
   "source": [
    "<h1>Insight 19</h1>"
   ]
  },
  {
   "cell_type": "code",
   "execution_count": 34,
   "id": "4cebe310-ea39-467c-b152-8018c5e7c625",
   "metadata": {},
   "outputs": [
    {
     "data": {
      "text/plain": [
       "Weather_Conditions  Vehicle_Type\n",
       "Fine no high winds  Car             392668\n",
       "dtype: int64"
      ]
     },
     "execution_count": 34,
     "metadata": {},
     "output_type": "execute_result"
    }
   ],
   "source": [
    "accident_df.groupby(['Weather_Conditions', 'Vehicle_Type']).size().sort_values(ascending=False).head(1)"
   ]
  },
  {
   "cell_type": "markdown",
   "id": "8dcdb550-9c46-4f86-9fee-14bbbac70d6f",
   "metadata": {},
   "source": [
    "<h3> Cars have the highest number of accidents during fine no high winds weather. </h3>"
   ]
  },
  {
   "cell_type": "markdown",
   "id": "8dfb040c-1e50-4071-aefd-6c7c11f1b432",
   "metadata": {},
   "source": [
    "<h1>Insight 20</h1>"
   ]
  },
  {
   "cell_type": "code",
   "execution_count": 35,
   "id": "07839afd-0103-4fc3-bf6d-587c3bd2ed15",
   "metadata": {},
   "outputs": [
    {
     "data": {
      "text/plain": [
       "Urban_or_Rural_Area\n",
       "Rural          5601\n",
       "Urban          3060\n",
       "Unallocated       0\n",
       "Name: count, dtype: int64"
      ]
     },
     "execution_count": 35,
     "metadata": {},
     "output_type": "execute_result"
    }
   ],
   "source": [
    "accident_df[accident_df['Accident_Severity'] == 'Fatal']['Urban_or_Rural_Area'].value_counts()"
   ]
  },
  {
   "cell_type": "markdown",
   "id": "88743908-82eb-4d6f-bd2e-6261ae3f7b4b",
   "metadata": {},
   "source": [
    "<h3>Rural area have the highest number of fatal accidents.</h3>"
   ]
  },
  {
   "cell_type": "code",
   "execution_count": null,
   "id": "98728cb0-1f9e-45af-b842-7ba2a709a831",
   "metadata": {},
   "outputs": [],
   "source": []
  },
  {
   "cell_type": "code",
   "execution_count": null,
   "id": "37828874-2ceb-42ee-9fc0-a7ed952372b2",
   "metadata": {},
   "outputs": [],
   "source": []
  }
 ],
 "metadata": {
  "kernelspec": {
   "display_name": "Python 3 (ipykernel)",
   "language": "python",
   "name": "python3"
  },
  "language_info": {
   "codemirror_mode": {
    "name": "ipython",
    "version": 3
   },
   "file_extension": ".py",
   "mimetype": "text/x-python",
   "name": "python",
   "nbconvert_exporter": "python",
   "pygments_lexer": "ipython3",
   "version": "3.11.3"
  }
 },
 "nbformat": 4,
 "nbformat_minor": 5
}
